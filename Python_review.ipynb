{
 "cells": [
  {
   "cell_type": "markdown",
   "id": "9ce54577",
   "metadata": {
    "toc": true
   },
   "source": [
    "<h1>Table of Contents<span class=\"tocSkip\"></span></h1>\n",
    "<div class=\"toc\"><ul class=\"toc-item\"><li><span><a href=\"#Numpy\" data-toc-modified-id=\"Numpy-1\"><span class=\"toc-item-num\">1&nbsp;&nbsp;</span>Numpy</a></span><ul class=\"toc-item\"><li><span><a href=\"#Data-types\" data-toc-modified-id=\"Data-types-1.1\"><span class=\"toc-item-num\">1.1&nbsp;&nbsp;</span>Data types</a></span></li><li><span><a href=\"#Create-an-ndarray\" data-toc-modified-id=\"Create-an-ndarray-1.2\"><span class=\"toc-item-num\">1.2&nbsp;&nbsp;</span>Create an ndarray</a></span></li><li><span><a href=\"#Type-conversion\" data-toc-modified-id=\"Type-conversion-1.3\"><span class=\"toc-item-num\">1.3&nbsp;&nbsp;</span>Type conversion</a></span></li><li><span><a href=\"#Shapes,-rows,-columns\" data-toc-modified-id=\"Shapes,-rows,-columns-1.4\"><span class=\"toc-item-num\">1.4&nbsp;&nbsp;</span>Shapes, rows, columns</a></span></li><li><span><a href=\"#Arithmetic\" data-toc-modified-id=\"Arithmetic-1.5\"><span class=\"toc-item-num\">1.5&nbsp;&nbsp;</span>Arithmetic</a></span></li><li><span><a href=\"#Indexing-and-slicing\" data-toc-modified-id=\"Indexing-and-slicing-1.6\"><span class=\"toc-item-num\">1.6&nbsp;&nbsp;</span>Indexing and slicing</a></span></li><li><span><a href=\"#Conditions\" data-toc-modified-id=\"Conditions-1.7\"><span class=\"toc-item-num\">1.7&nbsp;&nbsp;</span>Conditions</a></span></li><li><span><a href=\"#Statistics\" data-toc-modified-id=\"Statistics-1.8\"><span class=\"toc-item-num\">1.8&nbsp;&nbsp;</span>Statistics</a></span></li><li><span><a href=\"#Random-sampling\" data-toc-modified-id=\"Random-sampling-1.9\"><span class=\"toc-item-num\">1.9&nbsp;&nbsp;</span>Random sampling</a></span></li><li><span><a href=\"#Sorting\" data-toc-modified-id=\"Sorting-1.10\"><span class=\"toc-item-num\">1.10&nbsp;&nbsp;</span>Sorting</a></span></li><li><span><a href=\"#Matrix\" data-toc-modified-id=\"Matrix-1.11\"><span class=\"toc-item-num\">1.11&nbsp;&nbsp;</span>Matrix</a></span><ul class=\"toc-item\"><li><span><a href=\"#Multiplication\" data-toc-modified-id=\"Multiplication-1.11.1\"><span class=\"toc-item-num\">1.11.1&nbsp;&nbsp;</span>Multiplication</a></span></li></ul></li><li><span><a href=\"#Comparison\" data-toc-modified-id=\"Comparison-1.12\"><span class=\"toc-item-num\">1.12&nbsp;&nbsp;</span>Comparison</a></span></li><li><span><a href=\"#Unique-values\" data-toc-modified-id=\"Unique-values-1.13\"><span class=\"toc-item-num\">1.13&nbsp;&nbsp;</span>Unique values</a></span></li><li><span><a href=\"#Not-a-Number\" data-toc-modified-id=\"Not-a-Number-1.14\"><span class=\"toc-item-num\">1.14&nbsp;&nbsp;</span>Not a Number</a></span></li><li><span><a href=\"#File-IO\" data-toc-modified-id=\"File-IO-1.15\"><span class=\"toc-item-num\">1.15&nbsp;&nbsp;</span>File IO</a></span></li><li><span><a href=\"#Additional\" data-toc-modified-id=\"Additional-1.16\"><span class=\"toc-item-num\">1.16&nbsp;&nbsp;</span>Additional</a></span></li></ul></li></ul></div>"
   ]
  },
  {
   "cell_type": "markdown",
   "id": "3101637c",
   "metadata": {},
   "source": [
    "# Numpy"
   ]
  },
  {
   "cell_type": "code",
   "execution_count": 1,
   "id": "93bd4e33",
   "metadata": {},
   "outputs": [],
   "source": [
    "import numpy as np"
   ]
  },
  {
   "cell_type": "markdown",
   "id": "de1493a4",
   "metadata": {},
   "source": [
    "## Data types"
   ]
  },
  {
   "cell_type": "code",
   "execution_count": 10,
   "id": "b171f3fd",
   "metadata": {},
   "outputs": [
    {
     "data": {
      "text/plain": [
       "numpy.ndarray"
      ]
     },
     "execution_count": 10,
     "metadata": {},
     "output_type": "execute_result"
    }
   ],
   "source": [
    "arr = np.array([1,2,3])\n",
    "type(arr)"
   ]
  },
  {
   "cell_type": "markdown",
   "id": "e0d73eb7",
   "metadata": {},
   "source": [
    "## Create an ndarray "
   ]
  },
  {
   "cell_type": "code",
   "execution_count": 96,
   "id": "6793b862",
   "metadata": {},
   "outputs": [
    {
     "name": "stdout",
     "output_type": "stream",
     "text": [
      "[1 2 3 4 5 6 7 8 9]\n",
      "[1 3 5 7 9]\n"
     ]
    }
   ],
   "source": [
    "print(np.arange(1, 10))\n",
    "print(np.arange(1, 10, step=2))"
   ]
  },
  {
   "cell_type": "code",
   "execution_count": 97,
   "id": "ea4082ff",
   "metadata": {},
   "outputs": [
    {
     "name": "stdout",
     "output_type": "stream",
     "text": [
      "[ 0.  1.  2.  3.  4.  5.  6.  7.  8.  9. 10.]\n",
      "[0. 1. 2. 3. 4. 5. 6. 7. 8. 9.]\n"
     ]
    }
   ],
   "source": [
    "print(np.linspace(0,10,11))\n",
    "print(np.linspace(0,10,10, endpoint=False))"
   ]
  },
  {
   "cell_type": "code",
   "execution_count": 100,
   "id": "574b3880",
   "metadata": {},
   "outputs": [
    {
     "name": "stdout",
     "output_type": "stream",
     "text": [
      "[1. 1. 1.]\n",
      "[[1. 1. 1.]\n",
      " [1. 1. 1.]\n",
      " [1. 1. 1.]]\n"
     ]
    }
   ],
   "source": [
    "print(np.ones(3))\n",
    "print(np.ones((3,3)))"
   ]
  },
  {
   "cell_type": "code",
   "execution_count": 101,
   "id": "a9578d90",
   "metadata": {},
   "outputs": [
    {
     "name": "stdout",
     "output_type": "stream",
     "text": [
      "[0. 0. 0.]\n",
      "[[0. 0. 0.]\n",
      " [0. 0. 0.]\n",
      " [0. 0. 0.]]\n"
     ]
    }
   ],
   "source": [
    "print(np.zeros(3))\n",
    "print(np.zeros((3,3)))"
   ]
  },
  {
   "cell_type": "markdown",
   "id": "e348217b",
   "metadata": {},
   "source": [
    "## Type conversion"
   ]
  },
  {
   "cell_type": "code",
   "execution_count": 6,
   "id": "5d35ce96",
   "metadata": {},
   "outputs": [
    {
     "data": {
      "text/plain": [
       "array([1, 2, 3])"
      ]
     },
     "execution_count": 6,
     "metadata": {},
     "output_type": "execute_result"
    }
   ],
   "source": [
    "list1 = [1,2,3]\n",
    "np.array(list1)"
   ]
  },
  {
   "cell_type": "code",
   "execution_count": 12,
   "id": "c82703d9",
   "metadata": {},
   "outputs": [
    {
     "data": {
      "text/plain": [
       "dtype('int32')"
      ]
     },
     "execution_count": 12,
     "metadata": {},
     "output_type": "execute_result"
    }
   ],
   "source": [
    "arr = np.array([1,2,3])\n",
    "arr.dtype"
   ]
  },
  {
   "cell_type": "code",
   "execution_count": 13,
   "id": "6c054ef3",
   "metadata": {},
   "outputs": [
    {
     "data": {
      "text/plain": [
       "array([1., 2., 3.])"
      ]
     },
     "execution_count": 13,
     "metadata": {},
     "output_type": "execute_result"
    }
   ],
   "source": [
    "arr.astype('float')"
   ]
  },
  {
   "cell_type": "markdown",
   "id": "ecdb01be",
   "metadata": {},
   "source": [
    "## Shapes, rows, columns"
   ]
  },
  {
   "cell_type": "code",
   "execution_count": 16,
   "id": "5f6ec55d",
   "metadata": {},
   "outputs": [
    {
     "data": {
      "text/plain": [
       "(4,)"
      ]
     },
     "execution_count": 16,
     "metadata": {},
     "output_type": "execute_result"
    }
   ],
   "source": [
    "arr = np.array([1,2,3,4])\n",
    "arr.shape"
   ]
  },
  {
   "cell_type": "code",
   "execution_count": 21,
   "id": "7ec18b11",
   "metadata": {},
   "outputs": [
    {
     "data": {
      "text/plain": [
       "array([[1, 2],\n",
       "       [3, 4]])"
      ]
     },
     "execution_count": 21,
     "metadata": {},
     "output_type": "execute_result"
    }
   ],
   "source": [
    "new_arr = arr.reshape(2,2)\n",
    "new_arr"
   ]
  },
  {
   "cell_type": "code",
   "execution_count": 23,
   "id": "8227bca3",
   "metadata": {},
   "outputs": [
    {
     "data": {
      "text/plain": [
       "array([4, 6])"
      ]
     },
     "execution_count": 23,
     "metadata": {},
     "output_type": "execute_result"
    }
   ],
   "source": [
    "# by rows\n",
    "new_arr.sum(axis=0)"
   ]
  },
  {
   "cell_type": "code",
   "execution_count": 22,
   "id": "b2ad890b",
   "metadata": {},
   "outputs": [
    {
     "data": {
      "text/plain": [
       "array([3, 7])"
      ]
     },
     "execution_count": 22,
     "metadata": {},
     "output_type": "execute_result"
    }
   ],
   "source": [
    "# by columns\n",
    "new_arr.sum(axis=1)"
   ]
  },
  {
   "cell_type": "markdown",
   "id": "30846199",
   "metadata": {},
   "source": [
    "## Arithmetic"
   ]
  },
  {
   "cell_type": "code",
   "execution_count": 24,
   "id": "d22a157b",
   "metadata": {},
   "outputs": [
    {
     "data": {
      "text/plain": [
       "array([ 6,  8, 10, 12])"
      ]
     },
     "execution_count": 24,
     "metadata": {},
     "output_type": "execute_result"
    }
   ],
   "source": [
    "arr1 = np.array([1,2,3,4])\n",
    "arr2 = np.array([5,6,7,8])\n",
    "arr1 + arr2 # two arrays are of the same shape"
   ]
  },
  {
   "cell_type": "code",
   "execution_count": 30,
   "id": "17634a95",
   "metadata": {},
   "outputs": [],
   "source": [
    "arr1 = np.array([0,1,2]).reshape(3,1)\n",
    "arr2 = np.arange(0,12).reshape(3,4)\n",
    "arr3 = np.array([0,1,2,3]).reshape(1,4)"
   ]
  },
  {
   "cell_type": "code",
   "execution_count": 41,
   "id": "1a283685",
   "metadata": {},
   "outputs": [
    {
     "name": "stdout",
     "output_type": "stream",
     "text": [
      "[0 1 2 3]\n"
     ]
    }
   ],
   "source": [
    "arr1"
   ]
  },
  {
   "cell_type": "code",
   "execution_count": 33,
   "id": "427f6761",
   "metadata": {},
   "outputs": [
    {
     "data": {
      "text/plain": [
       "array([[ 0,  1,  2,  3],\n",
       "       [ 4,  5,  6,  7],\n",
       "       [ 8,  9, 10, 11]])"
      ]
     },
     "execution_count": 33,
     "metadata": {},
     "output_type": "execute_result"
    }
   ],
   "source": [
    "arr2"
   ]
  },
  {
   "cell_type": "code",
   "execution_count": 42,
   "id": "19809146",
   "metadata": {},
   "outputs": [
    {
     "name": "stdout",
     "output_type": "stream",
     "text": [
      "[[0 1 2 3]]\n"
     ]
    }
   ],
   "source": [
    "arr3"
   ]
  },
  {
   "cell_type": "code",
   "execution_count": 31,
   "id": "98d994a3",
   "metadata": {},
   "outputs": [
    {
     "data": {
      "text/plain": [
       "array([[ 0,  1,  2,  3],\n",
       "       [ 5,  6,  7,  8],\n",
       "       [10, 11, 12, 13]])"
      ]
     },
     "execution_count": 31,
     "metadata": {},
     "output_type": "execute_result"
    }
   ],
   "source": [
    "arr1 + arr2"
   ]
  },
  {
   "cell_type": "code",
   "execution_count": 37,
   "id": "a6df5c13",
   "metadata": {},
   "outputs": [
    {
     "data": {
      "text/plain": [
       "array([ True, False, False, False])"
      ]
     },
     "execution_count": 37,
     "metadata": {},
     "output_type": "execute_result"
    }
   ],
   "source": [
    "arr1 = np.array([0,1,2,3])\n",
    "arr2 = np.array([0,2,4,6])\n",
    "arr1 == arr2"
   ]
  },
  {
   "cell_type": "markdown",
   "id": "dbe64566",
   "metadata": {},
   "source": [
    "## Indexing and slicing"
   ]
  },
  {
   "cell_type": "code",
   "execution_count": 40,
   "id": "498c81e3",
   "metadata": {},
   "outputs": [
    {
     "data": {
      "text/plain": [
       "array([[1, 2, 3],\n",
       "       [4, 5, 6],\n",
       "       [7, 8, 9]])"
      ]
     },
     "execution_count": 40,
     "metadata": {},
     "output_type": "execute_result"
    }
   ],
   "source": [
    "arr = np.arange(1,10).reshape(3,3)\n",
    "arr"
   ]
  },
  {
   "cell_type": "code",
   "execution_count": 43,
   "id": "f04ffe6f",
   "metadata": {},
   "outputs": [
    {
     "name": "stdout",
     "output_type": "stream",
     "text": [
      "[7 8 9]\n",
      "9\n"
     ]
    }
   ],
   "source": [
    "print(arr[2])\n",
    "print(arr[2][2])"
   ]
  },
  {
   "cell_type": "code",
   "execution_count": 46,
   "id": "d3974cf8",
   "metadata": {},
   "outputs": [
    {
     "name": "stdout",
     "output_type": "stream",
     "text": [
      "[[4 5 6]]\n",
      "\n",
      "\n",
      "[[2 3]\n",
      " [5 6]]\n"
     ]
    }
   ],
   "source": [
    "print(arr[:2][1:])\n",
    "print('\\n')\n",
    "print(arr[:2,1:])"
   ]
  },
  {
   "cell_type": "code",
   "execution_count": 48,
   "id": "3948346d",
   "metadata": {},
   "outputs": [
    {
     "name": "stdout",
     "output_type": "stream",
     "text": [
      "[[1 2 3]\n",
      " [7 8 9]]\n"
     ]
    }
   ],
   "source": [
    "print(arr[[0,2]]) # print the 0th and the 2nd rows"
   ]
  },
  {
   "cell_type": "markdown",
   "id": "b5252509",
   "metadata": {},
   "source": [
    "## Conditions"
   ]
  },
  {
   "cell_type": "code",
   "execution_count": 50,
   "id": "40ef98c1",
   "metadata": {},
   "outputs": [
    {
     "name": "stdout",
     "output_type": "stream",
     "text": [
      "[3 2 3]\n",
      "[10  2  3]\n"
     ]
    }
   ],
   "source": [
    "x = np.array([1,2,3])\n",
    "y = np.array([10,20,30])\n",
    "print(np.where(x>1, x, x+2)) # if an element meet the condition, replace it with x; otherwise, replace it with y\n",
    "print(np.where(x>1, x, y))"
   ]
  },
  {
   "cell_type": "markdown",
   "id": "34e1ff72",
   "metadata": {},
   "source": [
    "## Statistics"
   ]
  },
  {
   "cell_type": "code",
   "execution_count": 51,
   "id": "6505e487",
   "metadata": {},
   "outputs": [
    {
     "data": {
      "text/plain": [
       "array([[1, 2, 3],\n",
       "       [4, 5, 6],\n",
       "       [7, 8, 9]])"
      ]
     },
     "execution_count": 51,
     "metadata": {},
     "output_type": "execute_result"
    }
   ],
   "source": [
    "arr"
   ]
  },
  {
   "cell_type": "code",
   "execution_count": 52,
   "id": "9a2f20e8",
   "metadata": {},
   "outputs": [
    {
     "data": {
      "text/plain": [
       "45"
      ]
     },
     "execution_count": 52,
     "metadata": {},
     "output_type": "execute_result"
    }
   ],
   "source": [
    "arr.sum()"
   ]
  },
  {
   "cell_type": "code",
   "execution_count": 56,
   "id": "0c3eeabc",
   "metadata": {},
   "outputs": [
    {
     "name": "stdout",
     "output_type": "stream",
     "text": [
      "5.0\n",
      "[4. 5. 6.]\n",
      "[2. 5. 8.]\n"
     ]
    }
   ],
   "source": [
    "print(arr.mean())\n",
    "print(arr.mean(axis=0))\n",
    "print(arr.mean(axis=1))"
   ]
  },
  {
   "cell_type": "markdown",
   "id": "cb97d7cd",
   "metadata": {},
   "source": [
    "## Random sampling"
   ]
  },
  {
   "cell_type": "code",
   "execution_count": 61,
   "id": "588acbe3",
   "metadata": {},
   "outputs": [],
   "source": [
    "from numpy.random import default_rng"
   ]
  },
  {
   "cell_type": "code",
   "execution_count": 88,
   "id": "0047f669",
   "metadata": {},
   "outputs": [
    {
     "data": {
      "text/plain": [
       "array([-0.98912135, -0.36778665,  1.28792526,  0.19397442,  0.9202309 ,\n",
       "        0.57710379, -0.63646365,  0.54195222, -0.31659545, -0.32238912])"
      ]
     },
     "execution_count": 88,
     "metadata": {},
     "output_type": "execute_result"
    }
   ],
   "source": [
    "rng = default_rng(123) # a random number generator\n",
    "arr_rd = rng.standard_normal(10)\n",
    "arr_rd"
   ]
  },
  {
   "cell_type": "markdown",
   "id": "a7e27160",
   "metadata": {},
   "source": [
    "Using the RandomState methods is discouraged. See https://numpy.org/doc/stable/reference/random/index.html?highlight=random#module-numpy.random"
   ]
  },
  {
   "cell_type": "markdown",
   "id": "1664027a",
   "metadata": {},
   "source": [
    "## Sorting"
   ]
  },
  {
   "cell_type": "code",
   "execution_count": 89,
   "id": "8672ee14",
   "metadata": {},
   "outputs": [
    {
     "data": {
      "text/plain": [
       "array([-0.98912135, -0.36778665,  1.28792526,  0.19397442,  0.9202309 ,\n",
       "        0.57710379, -0.63646365,  0.54195222, -0.31659545, -0.32238912])"
      ]
     },
     "execution_count": 89,
     "metadata": {},
     "output_type": "execute_result"
    }
   ],
   "source": [
    "arr_rd"
   ]
  },
  {
   "cell_type": "code",
   "execution_count": 90,
   "id": "bf5574db",
   "metadata": {},
   "outputs": [
    {
     "data": {
      "text/plain": [
       "array([-0.98912135, -0.63646365, -0.36778665, -0.32238912, -0.31659545,\n",
       "        0.19397442,  0.54195222,  0.57710379,  0.9202309 ,  1.28792526])"
      ]
     },
     "execution_count": 90,
     "metadata": {},
     "output_type": "execute_result"
    }
   ],
   "source": [
    "arr_rd.sort()\n",
    "arr_rd"
   ]
  },
  {
   "cell_type": "markdown",
   "id": "93cb932d",
   "metadata": {},
   "source": [
    "## Matrix"
   ]
  },
  {
   "cell_type": "code",
   "execution_count": 128,
   "id": "61d0cc69",
   "metadata": {},
   "outputs": [],
   "source": [
    "A = np.array([[1,1,1],[3,1,0],[2,1,2]])\n",
    "B = np.array([[3,1,1],[2,1,3],[1,1,1]])\n",
    "C = np.array([[2,0,1],[0,1,3],[1,3,1]])"
   ]
  },
  {
   "cell_type": "code",
   "execution_count": 120,
   "id": "a097c103",
   "metadata": {},
   "outputs": [
    {
     "data": {
      "text/plain": [
       "array([[1, 1, 1],\n",
       "       [3, 1, 0],\n",
       "       [2, 1, 2]])"
      ]
     },
     "execution_count": 120,
     "metadata": {},
     "output_type": "execute_result"
    }
   ],
   "source": [
    "A"
   ]
  },
  {
   "cell_type": "code",
   "execution_count": 126,
   "id": "801b1640",
   "metadata": {},
   "outputs": [
    {
     "data": {
      "text/plain": [
       "array([[3, 1, 1],\n",
       "       [2, 1, 3],\n",
       "       [1, 1, 1]])"
      ]
     },
     "execution_count": 126,
     "metadata": {},
     "output_type": "execute_result"
    }
   ],
   "source": [
    "B"
   ]
  },
  {
   "cell_type": "code",
   "execution_count": 129,
   "id": "465ec4aa",
   "metadata": {},
   "outputs": [
    {
     "data": {
      "text/plain": [
       "array([[2, 0, 1],\n",
       "       [0, 1, 3],\n",
       "       [1, 3, 1]])"
      ]
     },
     "execution_count": 129,
     "metadata": {},
     "output_type": "execute_result"
    }
   ],
   "source": [
    "C"
   ]
  },
  {
   "cell_type": "code",
   "execution_count": null,
   "id": "f0943652",
   "metadata": {},
   "outputs": [],
   "source": [
    "np.linalg.inv(A) # get an inverse of the matrix A"
   ]
  },
  {
   "cell_type": "markdown",
   "id": "20d325a2",
   "metadata": {},
   "source": [
    "### Multiplication"
   ]
  },
  {
   "cell_type": "code",
   "execution_count": 119,
   "id": "d7c4e896",
   "metadata": {},
   "outputs": [
    {
     "data": {
      "text/plain": [
       "array([[ 6,  3,  5],\n",
       "       [11,  4,  6],\n",
       "       [10,  5,  7]])"
      ]
     },
     "execution_count": 119,
     "metadata": {},
     "output_type": "execute_result"
    }
   ],
   "source": [
    "np.dot(A, B)"
   ]
  },
  {
   "cell_type": "code",
   "execution_count": 124,
   "id": "ffa4aa1b",
   "metadata": {},
   "outputs": [
    {
     "data": {
      "text/plain": [
       "array([[ 6,  3,  5],\n",
       "       [11,  4,  6],\n",
       "       [10,  5,  7]])"
      ]
     },
     "execution_count": 124,
     "metadata": {},
     "output_type": "execute_result"
    }
   ],
   "source": [
    "np.matmul(A, B) # input arrays as scalars are not allowed"
   ]
  },
  {
   "cell_type": "code",
   "execution_count": 135,
   "id": "1b23d773",
   "metadata": {},
   "outputs": [
    {
     "data": {
      "text/plain": [
       "array([[ 6,  3,  5],\n",
       "       [11,  4,  6],\n",
       "       [10,  5,  7]])"
      ]
     },
     "execution_count": 135,
     "metadata": {},
     "output_type": "execute_result"
    }
   ],
   "source": [
    "A.dot(B)"
   ]
  },
  {
   "cell_type": "code",
   "execution_count": 132,
   "id": "55c6e584",
   "metadata": {},
   "outputs": [
    {
     "data": {
      "text/plain": [
       "array([[17, 18, 20],\n",
       "       [28, 22, 29],\n",
       "       [27, 26, 32]])"
      ]
     },
     "execution_count": 132,
     "metadata": {},
     "output_type": "execute_result"
    }
   ],
   "source": [
    "np.linalg.multi_dot([A, B, C]) # the function chains numpy.dot \n",
    "# If the first argument is 1-D it is treated as a row vector. \n",
    "# If the last argument is 1-D it is treated as a column vector. \n",
    "# The other arguments must be 2-D."
   ]
  },
  {
   "cell_type": "code",
   "execution_count": 138,
   "id": "32226cd0",
   "metadata": {},
   "outputs": [
    {
     "data": {
      "text/plain": [
       "array([[ True,  True,  True],\n",
       "       [ True,  True,  True],\n",
       "       [ True,  True,  True]])"
      ]
     },
     "execution_count": 138,
     "metadata": {},
     "output_type": "execute_result"
    }
   ],
   "source": [
    "np.dot(np.dot(A, B), C) == np.linalg.multi_dot([A, B, C])"
   ]
  },
  {
   "cell_type": "markdown",
   "id": "337b9cb8",
   "metadata": {},
   "source": [
    "## Comparison"
   ]
  },
  {
   "cell_type": "code",
   "execution_count": 142,
   "id": "d2865e43",
   "metadata": {},
   "outputs": [
    {
     "data": {
      "text/plain": [
       "True"
      ]
     },
     "execution_count": 142,
     "metadata": {},
     "output_type": "execute_result"
    }
   ],
   "source": [
    "np.array_equiv( [1, 2], [1, 2]) # true if input arrays are shape consistent and all elements equal"
   ]
  },
  {
   "cell_type": "code",
   "execution_count": 143,
   "id": "beada008",
   "metadata": {},
   "outputs": [
    {
     "data": {
      "text/plain": [
       "array([ True, False,  True, False])"
      ]
     },
     "execution_count": 143,
     "metadata": {},
     "output_type": "execute_result"
    }
   ],
   "source": [
    "np.equal(1, [1,2,1,3]) # compare each element in an array with a value"
   ]
  },
  {
   "cell_type": "markdown",
   "id": "c7873ad2",
   "metadata": {},
   "source": [
    "## Unique values"
   ]
  },
  {
   "cell_type": "code",
   "execution_count": 104,
   "id": "7589efe5",
   "metadata": {},
   "outputs": [
    {
     "data": {
      "text/plain": [
       "array([0, 1, 2, 3])"
      ]
     },
     "execution_count": 104,
     "metadata": {},
     "output_type": "execute_result"
    }
   ],
   "source": [
    "arr = np.array([0,1,1,0,2,2,3])\n",
    "np.unique(arr) # equivalent to list(set(arr))"
   ]
  },
  {
   "cell_type": "markdown",
   "id": "c3d4f53a",
   "metadata": {},
   "source": [
    "## Not a Number"
   ]
  },
  {
   "cell_type": "code",
   "execution_count": 144,
   "id": "cf5f5e19",
   "metadata": {},
   "outputs": [
    {
     "data": {
      "text/plain": [
       "nan"
      ]
     },
     "execution_count": 144,
     "metadata": {},
     "output_type": "execute_result"
    }
   ],
   "source": [
    "a = np.nan\n",
    "a"
   ]
  },
  {
   "cell_type": "code",
   "execution_count": 107,
   "id": "668c0bc2",
   "metadata": {},
   "outputs": [
    {
     "data": {
      "text/plain": [
       "array([False,  True, False, False])"
      ]
     },
     "execution_count": 107,
     "metadata": {},
     "output_type": "execute_result"
    }
   ],
   "source": [
    "arr = np.array([0,np.nan,2,3])\n",
    "np.isnan(arr) # returns an array of boolean"
   ]
  },
  {
   "cell_type": "markdown",
   "id": "01e2c0cd",
   "metadata": {},
   "source": [
    "## File IO"
   ]
  },
  {
   "cell_type": "code",
   "execution_count": 116,
   "id": "502a8552",
   "metadata": {},
   "outputs": [],
   "source": [
    "data = np.loadtxt(\"dataset.txt\") # strip off spaces while loading"
   ]
  },
  {
   "cell_type": "markdown",
   "id": "a903cad0",
   "metadata": {},
   "source": [
    "## Additional"
   ]
  },
  {
   "cell_type": "code",
   "execution_count": null,
   "id": "a8b68e18",
   "metadata": {},
   "outputs": [],
   "source": []
  }
 ],
 "metadata": {
  "kernelspec": {
   "display_name": "Python 3",
   "language": "python",
   "name": "python3"
  },
  "language_info": {
   "codemirror_mode": {
    "name": "ipython",
    "version": 3
   },
   "file_extension": ".py",
   "mimetype": "text/x-python",
   "name": "python",
   "nbconvert_exporter": "python",
   "pygments_lexer": "ipython3",
   "version": "3.8.8"
  },
  "toc": {
   "base_numbering": 1,
   "nav_menu": {},
   "number_sections": true,
   "sideBar": true,
   "skip_h1_title": false,
   "title_cell": "Table of Contents",
   "title_sidebar": "Contents",
   "toc_cell": true,
   "toc_position": {},
   "toc_section_display": true,
   "toc_window_display": false
  }
 },
 "nbformat": 4,
 "nbformat_minor": 5
}
