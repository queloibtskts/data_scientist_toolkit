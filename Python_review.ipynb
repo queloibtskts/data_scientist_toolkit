{
 "cells": [
  {
   "cell_type": "markdown",
   "id": "64509872",
   "metadata": {
    "toc": true
   },
   "source": [
    "<h1>Table of Contents<span class=\"tocSkip\"></span></h1>\n",
    "<div class=\"toc\"><ul class=\"toc-item\"><li><span><a href=\"#🧮-NumPy\" data-toc-modified-id=\"🧮-NumPy-1\"><span class=\"toc-item-num\">1&nbsp;&nbsp;</span>🧮 NumPy</a></span><ul class=\"toc-item\"><li><span><a href=\"#Data-types\" data-toc-modified-id=\"Data-types-1.1\"><span class=\"toc-item-num\">1.1&nbsp;&nbsp;</span>Data types</a></span></li><li><span><a href=\"#Create-an-ndarray\" data-toc-modified-id=\"Create-an-ndarray-1.2\"><span class=\"toc-item-num\">1.2&nbsp;&nbsp;</span>Create an ndarray</a></span></li><li><span><a href=\"#Type-conversion\" data-toc-modified-id=\"Type-conversion-1.3\"><span class=\"toc-item-num\">1.3&nbsp;&nbsp;</span>Type conversion</a></span></li><li><span><a href=\"#Shapes,-rows,-columns\" data-toc-modified-id=\"Shapes,-rows,-columns-1.4\"><span class=\"toc-item-num\">1.4&nbsp;&nbsp;</span>Shapes, rows, columns</a></span></li><li><span><a href=\"#Arithmetic\" data-toc-modified-id=\"Arithmetic-1.5\"><span class=\"toc-item-num\">1.5&nbsp;&nbsp;</span>Arithmetic</a></span></li><li><span><a href=\"#Indexing-and-slicing\" data-toc-modified-id=\"Indexing-and-slicing-1.6\"><span class=\"toc-item-num\">1.6&nbsp;&nbsp;</span>Indexing and slicing</a></span></li><li><span><a href=\"#Conditions\" data-toc-modified-id=\"Conditions-1.7\"><span class=\"toc-item-num\">1.7&nbsp;&nbsp;</span>Conditions</a></span></li><li><span><a href=\"#Statistics\" data-toc-modified-id=\"Statistics-1.8\"><span class=\"toc-item-num\">1.8&nbsp;&nbsp;</span>Statistics</a></span></li><li><span><a href=\"#Random-sampling\" data-toc-modified-id=\"Random-sampling-1.9\"><span class=\"toc-item-num\">1.9&nbsp;&nbsp;</span>Random sampling</a></span></li><li><span><a href=\"#Sorting\" data-toc-modified-id=\"Sorting-1.10\"><span class=\"toc-item-num\">1.10&nbsp;&nbsp;</span>Sorting</a></span></li><li><span><a href=\"#Matrix\" data-toc-modified-id=\"Matrix-1.11\"><span class=\"toc-item-num\">1.11&nbsp;&nbsp;</span>Matrix</a></span><ul class=\"toc-item\"><li><span><a href=\"#Multiplication\" data-toc-modified-id=\"Multiplication-1.11.1\"><span class=\"toc-item-num\">1.11.1&nbsp;&nbsp;</span>Multiplication</a></span></li></ul></li><li><span><a href=\"#Comparison\" data-toc-modified-id=\"Comparison-1.12\"><span class=\"toc-item-num\">1.12&nbsp;&nbsp;</span>Comparison</a></span></li><li><span><a href=\"#Unique-values\" data-toc-modified-id=\"Unique-values-1.13\"><span class=\"toc-item-num\">1.13&nbsp;&nbsp;</span>Unique values</a></span></li><li><span><a href=\"#Not-a-Number\" data-toc-modified-id=\"Not-a-Number-1.14\"><span class=\"toc-item-num\">1.14&nbsp;&nbsp;</span>Not a Number</a></span></li><li><span><a href=\"#File-IO\" data-toc-modified-id=\"File-IO-1.15\"><span class=\"toc-item-num\">1.15&nbsp;&nbsp;</span>File IO</a></span></li><li><span><a href=\"#Additional\" data-toc-modified-id=\"Additional-1.16\"><span class=\"toc-item-num\">1.16&nbsp;&nbsp;</span>Additional</a></span></li></ul></li><li><span><a href=\"#🐼-Pandas\" data-toc-modified-id=\"🐼-Pandas-2\"><span class=\"toc-item-num\">2&nbsp;&nbsp;</span>🐼 Pandas</a></span><ul class=\"toc-item\"><li><span><a href=\"#Series\" data-toc-modified-id=\"Series-2.1\"><span class=\"toc-item-num\">2.1&nbsp;&nbsp;</span>Series</a></span><ul class=\"toc-item\"><li><span><a href=\"#Indexing-and-slicing\" data-toc-modified-id=\"Indexing-and-slicing-2.1.1\"><span class=\"toc-item-num\">2.1.1&nbsp;&nbsp;</span>Indexing and slicing</a></span></li></ul></li><li><span><a href=\"#DataFrame\" data-toc-modified-id=\"DataFrame-2.2\"><span class=\"toc-item-num\">2.2&nbsp;&nbsp;</span>DataFrame</a></span><ul class=\"toc-item\"><li><span><a href=\"#View\" data-toc-modified-id=\"View-2.2.1\"><span class=\"toc-item-num\">2.2.1&nbsp;&nbsp;</span>View</a></span><ul class=\"toc-item\"><li><span><a href=\"#Indexing-and-selecting\" data-toc-modified-id=\"Indexing-and-selecting-2.2.1.1\"><span class=\"toc-item-num\">2.2.1.1&nbsp;&nbsp;</span>Indexing and selecting</a></span></li></ul></li><li><span><a href=\"#Edit\" data-toc-modified-id=\"Edit-2.2.2\"><span class=\"toc-item-num\">2.2.2&nbsp;&nbsp;</span>Edit</a></span></li></ul></li></ul></li></ul></div>"
   ]
  },
  {
   "cell_type": "markdown",
   "id": "ea843dc0",
   "metadata": {},
   "source": [
    "# 🧮 NumPy"
   ]
  },
  {
   "cell_type": "code",
   "execution_count": 25,
   "id": "564113ec",
   "metadata": {},
   "outputs": [],
   "source": [
    "import numpy as np"
   ]
  },
  {
   "cell_type": "markdown",
   "id": "95243878",
   "metadata": {},
   "source": [
    "## Data types"
   ]
  },
  {
   "cell_type": "code",
   "execution_count": 10,
   "id": "4a5c0f96",
   "metadata": {},
   "outputs": [
    {
     "data": {
      "text/plain": [
       "numpy.ndarray"
      ]
     },
     "execution_count": 10,
     "metadata": {},
     "output_type": "execute_result"
    }
   ],
   "source": [
    "arr = np.array([1,2,3])\n",
    "type(arr)"
   ]
  },
  {
   "cell_type": "markdown",
   "id": "a1700674",
   "metadata": {},
   "source": [
    "## Create an ndarray "
   ]
  },
  {
   "cell_type": "code",
   "execution_count": 96,
   "id": "754810bc",
   "metadata": {},
   "outputs": [
    {
     "name": "stdout",
     "output_type": "stream",
     "text": [
      "[1 2 3 4 5 6 7 8 9]\n",
      "[1 3 5 7 9]\n"
     ]
    }
   ],
   "source": [
    "print(np.arange(1, 10))\n",
    "print(np.arange(1, 10, step=2))"
   ]
  },
  {
   "cell_type": "code",
   "execution_count": 97,
   "id": "e883ed5e",
   "metadata": {},
   "outputs": [
    {
     "name": "stdout",
     "output_type": "stream",
     "text": [
      "[ 0.  1.  2.  3.  4.  5.  6.  7.  8.  9. 10.]\n",
      "[0. 1. 2. 3. 4. 5. 6. 7. 8. 9.]\n"
     ]
    }
   ],
   "source": [
    "print(np.linspace(0,10,11))\n",
    "print(np.linspace(0,10,10, endpoint=False))"
   ]
  },
  {
   "cell_type": "code",
   "execution_count": 100,
   "id": "06fdc3ee",
   "metadata": {},
   "outputs": [
    {
     "name": "stdout",
     "output_type": "stream",
     "text": [
      "[1. 1. 1.]\n",
      "[[1. 1. 1.]\n",
      " [1. 1. 1.]\n",
      " [1. 1. 1.]]\n"
     ]
    }
   ],
   "source": [
    "print(np.ones(3))\n",
    "print(np.ones((3,3)))"
   ]
  },
  {
   "cell_type": "code",
   "execution_count": 101,
   "id": "6ad872a0",
   "metadata": {},
   "outputs": [
    {
     "name": "stdout",
     "output_type": "stream",
     "text": [
      "[0. 0. 0.]\n",
      "[[0. 0. 0.]\n",
      " [0. 0. 0.]\n",
      " [0. 0. 0.]]\n"
     ]
    }
   ],
   "source": [
    "print(np.zeros(3))\n",
    "print(np.zeros((3,3)))"
   ]
  },
  {
   "cell_type": "markdown",
   "id": "d107f534",
   "metadata": {},
   "source": [
    "## Type conversion"
   ]
  },
  {
   "cell_type": "code",
   "execution_count": 6,
   "id": "a2b76c3d",
   "metadata": {},
   "outputs": [
    {
     "data": {
      "text/plain": [
       "array([1, 2, 3])"
      ]
     },
     "execution_count": 6,
     "metadata": {},
     "output_type": "execute_result"
    }
   ],
   "source": [
    "list1 = [1,2,3]\n",
    "np.array(list1)"
   ]
  },
  {
   "cell_type": "code",
   "execution_count": 12,
   "id": "17b80ed0",
   "metadata": {},
   "outputs": [
    {
     "data": {
      "text/plain": [
       "dtype('int32')"
      ]
     },
     "execution_count": 12,
     "metadata": {},
     "output_type": "execute_result"
    }
   ],
   "source": [
    "arr = np.array([1,2,3])\n",
    "arr.dtype"
   ]
  },
  {
   "cell_type": "code",
   "execution_count": 13,
   "id": "086baef2",
   "metadata": {},
   "outputs": [
    {
     "data": {
      "text/plain": [
       "array([1., 2., 3.])"
      ]
     },
     "execution_count": 13,
     "metadata": {},
     "output_type": "execute_result"
    }
   ],
   "source": [
    "arr.astype('float')"
   ]
  },
  {
   "cell_type": "markdown",
   "id": "f2b8816b",
   "metadata": {},
   "source": [
    "## Shapes, rows, columns"
   ]
  },
  {
   "cell_type": "code",
   "execution_count": 16,
   "id": "34137388",
   "metadata": {},
   "outputs": [
    {
     "data": {
      "text/plain": [
       "(4,)"
      ]
     },
     "execution_count": 16,
     "metadata": {},
     "output_type": "execute_result"
    }
   ],
   "source": [
    "arr = np.array([1,2,3,4])\n",
    "arr.shape"
   ]
  },
  {
   "cell_type": "code",
   "execution_count": 21,
   "id": "d076d152",
   "metadata": {},
   "outputs": [
    {
     "data": {
      "text/plain": [
       "array([[1, 2],\n",
       "       [3, 4]])"
      ]
     },
     "execution_count": 21,
     "metadata": {},
     "output_type": "execute_result"
    }
   ],
   "source": [
    "new_arr = arr.reshape(2,2)\n",
    "new_arr"
   ]
  },
  {
   "cell_type": "code",
   "execution_count": 23,
   "id": "1cf9070b",
   "metadata": {},
   "outputs": [
    {
     "data": {
      "text/plain": [
       "array([4, 6])"
      ]
     },
     "execution_count": 23,
     "metadata": {},
     "output_type": "execute_result"
    }
   ],
   "source": [
    "# by rows\n",
    "new_arr.sum(axis=0)"
   ]
  },
  {
   "cell_type": "code",
   "execution_count": 22,
   "id": "80935a8e",
   "metadata": {},
   "outputs": [
    {
     "data": {
      "text/plain": [
       "array([3, 7])"
      ]
     },
     "execution_count": 22,
     "metadata": {},
     "output_type": "execute_result"
    }
   ],
   "source": [
    "# by columns\n",
    "new_arr.sum(axis=1)"
   ]
  },
  {
   "cell_type": "markdown",
   "id": "4808ae69",
   "metadata": {},
   "source": [
    "## Arithmetic"
   ]
  },
  {
   "cell_type": "code",
   "execution_count": 24,
   "id": "e713646d",
   "metadata": {},
   "outputs": [
    {
     "data": {
      "text/plain": [
       "array([ 6,  8, 10, 12])"
      ]
     },
     "execution_count": 24,
     "metadata": {},
     "output_type": "execute_result"
    }
   ],
   "source": [
    "arr1 = np.array([1,2,3,4])\n",
    "arr2 = np.array([5,6,7,8])\n",
    "arr1 + arr2 # two arrays are of the same shape"
   ]
  },
  {
   "cell_type": "code",
   "execution_count": 30,
   "id": "1bf34294",
   "metadata": {},
   "outputs": [],
   "source": [
    "arr1 = np.array([0,1,2]).reshape(3,1)\n",
    "arr2 = np.arange(0,12).reshape(3,4)\n",
    "arr3 = np.array([0,1,2,3]).reshape(1,4)"
   ]
  },
  {
   "cell_type": "code",
   "execution_count": 41,
   "id": "ca1b004f",
   "metadata": {},
   "outputs": [
    {
     "name": "stdout",
     "output_type": "stream",
     "text": [
      "[0 1 2 3]\n"
     ]
    }
   ],
   "source": [
    "arr1"
   ]
  },
  {
   "cell_type": "code",
   "execution_count": 33,
   "id": "feffd43f",
   "metadata": {},
   "outputs": [
    {
     "data": {
      "text/plain": [
       "array([[ 0,  1,  2,  3],\n",
       "       [ 4,  5,  6,  7],\n",
       "       [ 8,  9, 10, 11]])"
      ]
     },
     "execution_count": 33,
     "metadata": {},
     "output_type": "execute_result"
    }
   ],
   "source": [
    "arr2"
   ]
  },
  {
   "cell_type": "code",
   "execution_count": 42,
   "id": "348c48e2",
   "metadata": {},
   "outputs": [
    {
     "name": "stdout",
     "output_type": "stream",
     "text": [
      "[[0 1 2 3]]\n"
     ]
    }
   ],
   "source": [
    "arr3"
   ]
  },
  {
   "cell_type": "code",
   "execution_count": 31,
   "id": "503a1af7",
   "metadata": {},
   "outputs": [
    {
     "data": {
      "text/plain": [
       "array([[ 0,  1,  2,  3],\n",
       "       [ 5,  6,  7,  8],\n",
       "       [10, 11, 12, 13]])"
      ]
     },
     "execution_count": 31,
     "metadata": {},
     "output_type": "execute_result"
    }
   ],
   "source": [
    "arr1 + arr2"
   ]
  },
  {
   "cell_type": "code",
   "execution_count": 37,
   "id": "3604d99b",
   "metadata": {},
   "outputs": [
    {
     "data": {
      "text/plain": [
       "array([ True, False, False, False])"
      ]
     },
     "execution_count": 37,
     "metadata": {},
     "output_type": "execute_result"
    }
   ],
   "source": [
    "arr1 = np.array([0,1,2,3])\n",
    "arr2 = np.array([0,2,4,6])\n",
    "arr1 == arr2"
   ]
  },
  {
   "cell_type": "markdown",
   "id": "34ab7ee8",
   "metadata": {},
   "source": [
    "## Indexing and slicing"
   ]
  },
  {
   "cell_type": "code",
   "execution_count": 40,
   "id": "167c4fa1",
   "metadata": {},
   "outputs": [
    {
     "data": {
      "text/plain": [
       "array([[1, 2, 3],\n",
       "       [4, 5, 6],\n",
       "       [7, 8, 9]])"
      ]
     },
     "execution_count": 40,
     "metadata": {},
     "output_type": "execute_result"
    }
   ],
   "source": [
    "arr = np.arange(1,10).reshape(3,3)\n",
    "arr"
   ]
  },
  {
   "cell_type": "code",
   "execution_count": 43,
   "id": "ab790b2e",
   "metadata": {},
   "outputs": [
    {
     "name": "stdout",
     "output_type": "stream",
     "text": [
      "[7 8 9]\n",
      "9\n"
     ]
    }
   ],
   "source": [
    "print(arr[2])\n",
    "print(arr[2][2])"
   ]
  },
  {
   "cell_type": "code",
   "execution_count": 46,
   "id": "5e06e640",
   "metadata": {},
   "outputs": [
    {
     "name": "stdout",
     "output_type": "stream",
     "text": [
      "[[4 5 6]]\n",
      "\n",
      "\n",
      "[[2 3]\n",
      " [5 6]]\n"
     ]
    }
   ],
   "source": [
    "print(arr[:2][1:])\n",
    "print('\\n')\n",
    "print(arr[:2,1:])"
   ]
  },
  {
   "cell_type": "code",
   "execution_count": 48,
   "id": "e2b289bb",
   "metadata": {},
   "outputs": [
    {
     "name": "stdout",
     "output_type": "stream",
     "text": [
      "[[1 2 3]\n",
      " [7 8 9]]\n"
     ]
    }
   ],
   "source": [
    "print(arr[[0,2]]) # print the 0th and the 2nd rows"
   ]
  },
  {
   "cell_type": "markdown",
   "id": "34cb77ba",
   "metadata": {},
   "source": [
    "## Conditions"
   ]
  },
  {
   "cell_type": "code",
   "execution_count": 50,
   "id": "25bcaa1e",
   "metadata": {},
   "outputs": [
    {
     "name": "stdout",
     "output_type": "stream",
     "text": [
      "[3 2 3]\n",
      "[10  2  3]\n"
     ]
    }
   ],
   "source": [
    "x = np.array([1,2,3])\n",
    "y = np.array([10,20,30])\n",
    "print(np.where(x>1, x, x+2)) # if an element meet the condition, replace it with x; otherwise, replace it with y\n",
    "print(np.where(x>1, x, y))"
   ]
  },
  {
   "cell_type": "markdown",
   "id": "c45f66ab",
   "metadata": {},
   "source": [
    "## Statistics"
   ]
  },
  {
   "cell_type": "code",
   "execution_count": 51,
   "id": "1a58a067",
   "metadata": {},
   "outputs": [
    {
     "data": {
      "text/plain": [
       "array([[1, 2, 3],\n",
       "       [4, 5, 6],\n",
       "       [7, 8, 9]])"
      ]
     },
     "execution_count": 51,
     "metadata": {},
     "output_type": "execute_result"
    }
   ],
   "source": [
    "arr"
   ]
  },
  {
   "cell_type": "code",
   "execution_count": 52,
   "id": "5889301f",
   "metadata": {},
   "outputs": [
    {
     "data": {
      "text/plain": [
       "45"
      ]
     },
     "execution_count": 52,
     "metadata": {},
     "output_type": "execute_result"
    }
   ],
   "source": [
    "arr.sum()"
   ]
  },
  {
   "cell_type": "code",
   "execution_count": 56,
   "id": "f6b2390d",
   "metadata": {},
   "outputs": [
    {
     "name": "stdout",
     "output_type": "stream",
     "text": [
      "5.0\n",
      "[4. 5. 6.]\n",
      "[2. 5. 8.]\n"
     ]
    }
   ],
   "source": [
    "print(arr.mean())\n",
    "print(arr.mean(axis=0))\n",
    "print(arr.mean(axis=1))"
   ]
  },
  {
   "cell_type": "markdown",
   "id": "b4be620d",
   "metadata": {},
   "source": [
    "## Random sampling"
   ]
  },
  {
   "cell_type": "code",
   "execution_count": 61,
   "id": "3387405b",
   "metadata": {},
   "outputs": [],
   "source": [
    "from numpy.random import default_rng"
   ]
  },
  {
   "cell_type": "code",
   "execution_count": 88,
   "id": "44d4d548",
   "metadata": {},
   "outputs": [
    {
     "data": {
      "text/plain": [
       "array([-0.98912135, -0.36778665,  1.28792526,  0.19397442,  0.9202309 ,\n",
       "        0.57710379, -0.63646365,  0.54195222, -0.31659545, -0.32238912])"
      ]
     },
     "execution_count": 88,
     "metadata": {},
     "output_type": "execute_result"
    }
   ],
   "source": [
    "rng = default_rng(123) # a random number generator\n",
    "arr_rd = rng.standard_normal(10)\n",
    "arr_rd"
   ]
  },
  {
   "cell_type": "markdown",
   "id": "b292db74",
   "metadata": {},
   "source": [
    "Using the RandomState methods is discouraged. See https://numpy.org/doc/stable/reference/random/index.html?highlight=random#module-numpy.random"
   ]
  },
  {
   "cell_type": "markdown",
   "id": "9943ab4e",
   "metadata": {},
   "source": [
    "## Sorting"
   ]
  },
  {
   "cell_type": "code",
   "execution_count": 89,
   "id": "a2d1552d",
   "metadata": {},
   "outputs": [
    {
     "data": {
      "text/plain": [
       "array([-0.98912135, -0.36778665,  1.28792526,  0.19397442,  0.9202309 ,\n",
       "        0.57710379, -0.63646365,  0.54195222, -0.31659545, -0.32238912])"
      ]
     },
     "execution_count": 89,
     "metadata": {},
     "output_type": "execute_result"
    }
   ],
   "source": [
    "arr_rd"
   ]
  },
  {
   "cell_type": "code",
   "execution_count": 90,
   "id": "43838e16",
   "metadata": {},
   "outputs": [
    {
     "data": {
      "text/plain": [
       "array([-0.98912135, -0.63646365, -0.36778665, -0.32238912, -0.31659545,\n",
       "        0.19397442,  0.54195222,  0.57710379,  0.9202309 ,  1.28792526])"
      ]
     },
     "execution_count": 90,
     "metadata": {},
     "output_type": "execute_result"
    }
   ],
   "source": [
    "arr_rd.sort()\n",
    "arr_rd"
   ]
  },
  {
   "cell_type": "markdown",
   "id": "08e2262c",
   "metadata": {},
   "source": [
    "## Matrix"
   ]
  },
  {
   "cell_type": "code",
   "execution_count": 128,
   "id": "5887a36b",
   "metadata": {},
   "outputs": [],
   "source": [
    "A = np.array([[1,1,1],[3,1,0],[2,1,2]])\n",
    "B = np.array([[3,1,1],[2,1,3],[1,1,1]])\n",
    "C = np.array([[2,0,1],[0,1,3],[1,3,1]])"
   ]
  },
  {
   "cell_type": "code",
   "execution_count": 120,
   "id": "17ffc4db",
   "metadata": {},
   "outputs": [
    {
     "data": {
      "text/plain": [
       "array([[1, 1, 1],\n",
       "       [3, 1, 0],\n",
       "       [2, 1, 2]])"
      ]
     },
     "execution_count": 120,
     "metadata": {},
     "output_type": "execute_result"
    }
   ],
   "source": [
    "A"
   ]
  },
  {
   "cell_type": "code",
   "execution_count": 126,
   "id": "6a2bd2a9",
   "metadata": {},
   "outputs": [
    {
     "data": {
      "text/plain": [
       "array([[3, 1, 1],\n",
       "       [2, 1, 3],\n",
       "       [1, 1, 1]])"
      ]
     },
     "execution_count": 126,
     "metadata": {},
     "output_type": "execute_result"
    }
   ],
   "source": [
    "B"
   ]
  },
  {
   "cell_type": "code",
   "execution_count": 129,
   "id": "9cec1a46",
   "metadata": {},
   "outputs": [
    {
     "data": {
      "text/plain": [
       "array([[2, 0, 1],\n",
       "       [0, 1, 3],\n",
       "       [1, 3, 1]])"
      ]
     },
     "execution_count": 129,
     "metadata": {},
     "output_type": "execute_result"
    }
   ],
   "source": [
    "C"
   ]
  },
  {
   "cell_type": "code",
   "execution_count": null,
   "id": "a470aef6",
   "metadata": {},
   "outputs": [],
   "source": [
    "np.linalg.inv(A) # get an inverse of the matrix A"
   ]
  },
  {
   "cell_type": "markdown",
   "id": "522fa25f",
   "metadata": {},
   "source": [
    "### Multiplication"
   ]
  },
  {
   "cell_type": "code",
   "execution_count": 119,
   "id": "d62067e3",
   "metadata": {},
   "outputs": [
    {
     "data": {
      "text/plain": [
       "array([[ 6,  3,  5],\n",
       "       [11,  4,  6],\n",
       "       [10,  5,  7]])"
      ]
     },
     "execution_count": 119,
     "metadata": {},
     "output_type": "execute_result"
    }
   ],
   "source": [
    "np.dot(A, B)"
   ]
  },
  {
   "cell_type": "code",
   "execution_count": 124,
   "id": "46117a55",
   "metadata": {},
   "outputs": [
    {
     "data": {
      "text/plain": [
       "array([[ 6,  3,  5],\n",
       "       [11,  4,  6],\n",
       "       [10,  5,  7]])"
      ]
     },
     "execution_count": 124,
     "metadata": {},
     "output_type": "execute_result"
    }
   ],
   "source": [
    "np.matmul(A, B) # input arrays as scalars are not allowed"
   ]
  },
  {
   "cell_type": "code",
   "execution_count": 135,
   "id": "1cf2d68f",
   "metadata": {},
   "outputs": [
    {
     "data": {
      "text/plain": [
       "array([[ 6,  3,  5],\n",
       "       [11,  4,  6],\n",
       "       [10,  5,  7]])"
      ]
     },
     "execution_count": 135,
     "metadata": {},
     "output_type": "execute_result"
    }
   ],
   "source": [
    "A.dot(B)"
   ]
  },
  {
   "cell_type": "code",
   "execution_count": 132,
   "id": "2454b8c5",
   "metadata": {},
   "outputs": [
    {
     "data": {
      "text/plain": [
       "array([[17, 18, 20],\n",
       "       [28, 22, 29],\n",
       "       [27, 26, 32]])"
      ]
     },
     "execution_count": 132,
     "metadata": {},
     "output_type": "execute_result"
    }
   ],
   "source": [
    "np.linalg.multi_dot([A, B, C]) # the function chains numpy.dot \n",
    "# If the first argument is 1-D it is treated as a row vector. \n",
    "# If the last argument is 1-D it is treated as a column vector. \n",
    "# The other arguments must be 2-D."
   ]
  },
  {
   "cell_type": "code",
   "execution_count": 138,
   "id": "1d01489b",
   "metadata": {},
   "outputs": [
    {
     "data": {
      "text/plain": [
       "array([[ True,  True,  True],\n",
       "       [ True,  True,  True],\n",
       "       [ True,  True,  True]])"
      ]
     },
     "execution_count": 138,
     "metadata": {},
     "output_type": "execute_result"
    }
   ],
   "source": [
    "np.dot(np.dot(A, B), C) == np.linalg.multi_dot([A, B, C])"
   ]
  },
  {
   "cell_type": "markdown",
   "id": "8f3a9bfc",
   "metadata": {},
   "source": [
    "## Comparison"
   ]
  },
  {
   "cell_type": "code",
   "execution_count": 142,
   "id": "1645625a",
   "metadata": {},
   "outputs": [
    {
     "data": {
      "text/plain": [
       "True"
      ]
     },
     "execution_count": 142,
     "metadata": {},
     "output_type": "execute_result"
    }
   ],
   "source": [
    "np.array_equiv( [1, 2], [1, 2]) # true if input arrays are shape consistent and all elements equal"
   ]
  },
  {
   "cell_type": "code",
   "execution_count": 143,
   "id": "ce4bb952",
   "metadata": {},
   "outputs": [
    {
     "data": {
      "text/plain": [
       "array([ True, False,  True, False])"
      ]
     },
     "execution_count": 143,
     "metadata": {},
     "output_type": "execute_result"
    }
   ],
   "source": [
    "np.equal(1, [1,2,1,3]) # compare each element in an array with a value"
   ]
  },
  {
   "cell_type": "markdown",
   "id": "80b3c1eb",
   "metadata": {},
   "source": [
    "## Unique values"
   ]
  },
  {
   "cell_type": "code",
   "execution_count": 104,
   "id": "278e14e6",
   "metadata": {},
   "outputs": [
    {
     "data": {
      "text/plain": [
       "array([0, 1, 2, 3])"
      ]
     },
     "execution_count": 104,
     "metadata": {},
     "output_type": "execute_result"
    }
   ],
   "source": [
    "arr = np.array([0,1,1,0,2,2,3])\n",
    "np.unique(arr) # equivalent to list(set(arr))"
   ]
  },
  {
   "cell_type": "markdown",
   "id": "29ce2ea4",
   "metadata": {},
   "source": [
    "## Not a Number"
   ]
  },
  {
   "cell_type": "code",
   "execution_count": 144,
   "id": "0e5295bc",
   "metadata": {},
   "outputs": [
    {
     "data": {
      "text/plain": [
       "nan"
      ]
     },
     "execution_count": 144,
     "metadata": {},
     "output_type": "execute_result"
    }
   ],
   "source": [
    "a = np.nan\n",
    "a"
   ]
  },
  {
   "cell_type": "code",
   "execution_count": 107,
   "id": "ab78bd56",
   "metadata": {},
   "outputs": [
    {
     "data": {
      "text/plain": [
       "array([False,  True, False, False])"
      ]
     },
     "execution_count": 107,
     "metadata": {},
     "output_type": "execute_result"
    }
   ],
   "source": [
    "arr = np.array([0,np.nan,2,3])\n",
    "np.isnan(arr) # returns an array of booleans"
   ]
  },
  {
   "cell_type": "markdown",
   "id": "9a0d9cae",
   "metadata": {
    "heading_collapsed": true
   },
   "source": [
    "## File IO"
   ]
  },
  {
   "cell_type": "code",
   "execution_count": 149,
   "id": "40940e8f",
   "metadata": {
    "hidden": true
   },
   "outputs": [
    {
     "data": {
      "text/plain": [
       "array([[ 1.,  0.,  1.,  5.,  0.,  0., 37.,  6.,  0.,  0.,  0.,  0., 25.,\n",
       "         0.,  0.,  7.,  1.,  0.,  0.,  0., 13.,  2.,  0.,  0.,  8.,  0.,\n",
       "         0.,  0., 15., 29.,  1.,  1.,  0.,  0.,  0.,  0.,  1.,  0.,  0.,\n",
       "         1.,  0.,  0.,  0.,  0.,  0.,  3.,  0.,  0.,  0.,  0.,  0.,  0.,\n",
       "         0.,  0.,  0.,  0.,  4.,  0.,  0.,  0.,  0.,  0.,  0.,  0.,  5.,\n",
       "         2.,  7.,  0.,  0.,  0.,  0., 11.,  0.,  5.,  0.,  0.,  0.,  0.,\n",
       "         0.,  0.,  3.,  2.,  0.,  0.,  0.,  0.,  1.,  2., 47.,  0.,  0.,\n",
       "         1.,  0.,  0.,  0.,  1.,  3.,  0.,  0., 17., 30.,  4.,  0.],\n",
       "       [ 7.,  0.,  0.,  1.,  3., 36.,  0.,  0.,  0.,  0.,  0.,  0.,  0.,\n",
       "         0.,  1.,  0.,  0.,  0.,  0.,  0.,  0., 14.,  0., 23.,  0.,  0.,\n",
       "         3.,  0.,  3.,  0.,  0.,  0.,  0.,  1.,  0.,  0.,  0.,  0.,  0.,\n",
       "         0.,  0.,  0., 29.,  0.,  0.,  2.,  1.,  2., 35.,  5.,  0., 11.,\n",
       "         0.,  6.,  3.,  0.,  0.,  2.,  2.,  0.,  0.,  0.,  0.,  0.,  0.,\n",
       "         1.,  0., 53.,  0.,  0.,  0.,  3.,  0.,  0.,  0.,  0.,  0., 27.,\n",
       "         0.,  0.,  0.,  5.,  0.,  0.,  1.,  0.,  1.,  0.,  0.,  0.,  6.,\n",
       "         0.,  0.,  0.,  0.,  3.,  0.,  1.,  5.,  1.,  0.,  0., 10.]])"
      ]
     },
     "execution_count": 149,
     "metadata": {},
     "output_type": "execute_result"
    }
   ],
   "source": [
    "data = np.loadtxt(\"data/dataset.txt\") # strip off spaces while loading\n",
    "data[:2]"
   ]
  },
  {
   "cell_type": "markdown",
   "id": "dbaefe0a",
   "metadata": {},
   "source": [
    "## Additional"
   ]
  },
  {
   "cell_type": "markdown",
   "id": "f8e5fa09",
   "metadata": {},
   "source": [
    "# 🐼 Pandas"
   ]
  },
  {
   "cell_type": "code",
   "execution_count": 23,
   "id": "36e6333c",
   "metadata": {},
   "outputs": [],
   "source": [
    "import pandas as pd\n",
    "\n",
    "pd.set_option('display.max_rows', 99)\n",
    "pd.set_option('display.max_columns', 99)\n",
    "pd.set_option('display.float_format', lambda x: '%.3f' % x)"
   ]
  },
  {
   "cell_type": "markdown",
   "id": "2b954f73",
   "metadata": {},
   "source": [
    "## Series"
   ]
  },
  {
   "cell_type": "markdown",
   "id": "bffbbfa4",
   "metadata": {},
   "source": [
    "Construct a series from a dictionary. The keys of the dictionary must match with the Index values."
   ]
  },
  {
   "cell_type": "code",
   "execution_count": 4,
   "id": "86f6e4de",
   "metadata": {},
   "outputs": [
    {
     "data": {
      "text/plain": [
       "a    1.0\n",
       "b    2.0\n",
       "x    NaN\n",
       "dtype: float64"
      ]
     },
     "execution_count": 4,
     "metadata": {},
     "output_type": "execute_result"
    }
   ],
   "source": [
    "d = {'a': 1, 'b': 2, 'c': 3}\n",
    "s = pd.Series(data=d, index=['a', 'b', 'x'])\n",
    "s"
   ]
  },
  {
   "cell_type": "code",
   "execution_count": 16,
   "id": "432de556",
   "metadata": {},
   "outputs": [
    {
     "name": "stdout",
     "output_type": "stream",
     "text": [
      "Index(['a', 'b', 'x'], dtype='object')\n",
      "\n",
      "\n",
      "[ 1.  2. nan]\n"
     ]
    }
   ],
   "source": [
    "print(s.index)\n",
    "print('\\n')\n",
    "print(s.values)"
   ]
  },
  {
   "cell_type": "markdown",
   "id": "75877b9c",
   "metadata": {},
   "source": [
    "Please recall similar attributes of a dictionary."
   ]
  },
  {
   "cell_type": "code",
   "execution_count": 15,
   "id": "4a6c45d9",
   "metadata": {},
   "outputs": [
    {
     "name": "stdout",
     "output_type": "stream",
     "text": [
      "dict_keys(['a', 'b', 'c'])\n",
      "\n",
      "\n",
      "dict_values([1, 2, 3])\n"
     ]
    }
   ],
   "source": [
    "print(d.keys())\n",
    "print('\\n')\n",
    "print(d.values())"
   ]
  },
  {
   "cell_type": "markdown",
   "id": "d01b4079",
   "metadata": {},
   "source": [
    "### Indexing and slicing"
   ]
  },
  {
   "cell_type": "code",
   "execution_count": 17,
   "id": "c21af1fc",
   "metadata": {},
   "outputs": [
    {
     "data": {
      "text/plain": [
       "1.0"
      ]
     },
     "execution_count": 17,
     "metadata": {},
     "output_type": "execute_result"
    }
   ],
   "source": [
    "s[0]"
   ]
  },
  {
   "cell_type": "code",
   "execution_count": 19,
   "id": "c2a371b7",
   "metadata": {},
   "outputs": [
    {
     "data": {
      "text/plain": [
       "a    1.0\n",
       "b    2.0\n",
       "dtype: float64"
      ]
     },
     "execution_count": 19,
     "metadata": {},
     "output_type": "execute_result"
    }
   ],
   "source": [
    "s[0:2]"
   ]
  },
  {
   "cell_type": "code",
   "execution_count": 22,
   "id": "ca79387e",
   "metadata": {},
   "outputs": [
    {
     "data": {
      "text/plain": [
       "a    1.0\n",
       "dtype: float64"
      ]
     },
     "execution_count": 22,
     "metadata": {},
     "output_type": "execute_result"
    }
   ],
   "source": [
    "s[s == 1]"
   ]
  },
  {
   "cell_type": "markdown",
   "id": "c289dd76",
   "metadata": {},
   "source": [
    "## DataFrame"
   ]
  },
  {
   "cell_type": "code",
   "execution_count": 54,
   "id": "b62bc88f",
   "metadata": {},
   "outputs": [],
   "source": [
    "df = pd.read_csv('data/OnlineRetail.csv', \n",
    "                             sep = ',',\n",
    "                             usecols=['id', 'InvoiceNo', 'Quantity', 'UnitPrice', 'CustomerID', 'Country'],\n",
    "                             nrows=1000,\n",
    "                             #header=0,\n",
    "                             index_col='id',\n",
    "                             dtype={'UnitPrice': np.float64, 'CustomerID': 'Int64'}\n",
    "                )"
   ]
  },
  {
   "cell_type": "code",
   "execution_count": 45,
   "id": "7fc725b1",
   "metadata": {
    "collapsed": true
   },
   "outputs": [
    {
     "data": {
      "text/html": [
       "<div>\n",
       "<style scoped>\n",
       "    .dataframe tbody tr th:only-of-type {\n",
       "        vertical-align: middle;\n",
       "    }\n",
       "\n",
       "    .dataframe tbody tr th {\n",
       "        vertical-align: top;\n",
       "    }\n",
       "\n",
       "    .dataframe thead th {\n",
       "        text-align: right;\n",
       "    }\n",
       "</style>\n",
       "<table border=\"1\" class=\"dataframe\">\n",
       "  <thead>\n",
       "    <tr style=\"text-align: right;\">\n",
       "      <th></th>\n",
       "      <th>Quantity</th>\n",
       "      <th>UnitPrice</th>\n",
       "      <th>CustomerID</th>\n",
       "    </tr>\n",
       "    <tr>\n",
       "      <th>InvoiceNo</th>\n",
       "      <th></th>\n",
       "      <th></th>\n",
       "      <th></th>\n",
       "    </tr>\n",
       "  </thead>\n",
       "  <tbody>\n",
       "    <tr>\n",
       "      <th>536365</th>\n",
       "      <td>6</td>\n",
       "      <td>2.550</td>\n",
       "      <td>17850</td>\n",
       "    </tr>\n",
       "    <tr>\n",
       "      <th>536365</th>\n",
       "      <td>6</td>\n",
       "      <td>3.390</td>\n",
       "      <td>17850</td>\n",
       "    </tr>\n",
       "    <tr>\n",
       "      <th>536365</th>\n",
       "      <td>8</td>\n",
       "      <td>2.750</td>\n",
       "      <td>17850</td>\n",
       "    </tr>\n",
       "    <tr>\n",
       "      <th>536365</th>\n",
       "      <td>6</td>\n",
       "      <td>3.390</td>\n",
       "      <td>17850</td>\n",
       "    </tr>\n",
       "    <tr>\n",
       "      <th>536365</th>\n",
       "      <td>6</td>\n",
       "      <td>3.390</td>\n",
       "      <td>17850</td>\n",
       "    </tr>\n",
       "    <tr>\n",
       "      <th>...</th>\n",
       "      <td>...</td>\n",
       "      <td>...</td>\n",
       "      <td>...</td>\n",
       "    </tr>\n",
       "    <tr>\n",
       "      <th>536520</th>\n",
       "      <td>1</td>\n",
       "      <td>1.650</td>\n",
       "      <td>14729</td>\n",
       "    </tr>\n",
       "    <tr>\n",
       "      <th>536520</th>\n",
       "      <td>1</td>\n",
       "      <td>1.250</td>\n",
       "      <td>14729</td>\n",
       "    </tr>\n",
       "    <tr>\n",
       "      <th>536520</th>\n",
       "      <td>1</td>\n",
       "      <td>1.250</td>\n",
       "      <td>14729</td>\n",
       "    </tr>\n",
       "    <tr>\n",
       "      <th>536520</th>\n",
       "      <td>1</td>\n",
       "      <td>2.550</td>\n",
       "      <td>14729</td>\n",
       "    </tr>\n",
       "    <tr>\n",
       "      <th>536520</th>\n",
       "      <td>2</td>\n",
       "      <td>1.250</td>\n",
       "      <td>14729</td>\n",
       "    </tr>\n",
       "  </tbody>\n",
       "</table>\n",
       "<p>1000 rows × 3 columns</p>\n",
       "</div>"
      ],
      "text/plain": [
       "           Quantity  UnitPrice  CustomerID\n",
       "InvoiceNo                                 \n",
       "536365            6      2.550       17850\n",
       "536365            6      3.390       17850\n",
       "536365            8      2.750       17850\n",
       "536365            6      3.390       17850\n",
       "536365            6      3.390       17850\n",
       "...             ...        ...         ...\n",
       "536520            1      1.650       14729\n",
       "536520            1      1.250       14729\n",
       "536520            1      1.250       14729\n",
       "536520            1      2.550       14729\n",
       "536520            2      1.250       14729\n",
       "\n",
       "[1000 rows x 3 columns]"
      ]
     },
     "execution_count": 45,
     "metadata": {},
     "output_type": "execute_result"
    }
   ],
   "source": [
    "# Replace or change the index column\n",
    "df.set_index('InvoiceNo', inplace = True)"
   ]
  },
  {
   "cell_type": "markdown",
   "id": "af27a0f9",
   "metadata": {},
   "source": [
    "### View"
   ]
  },
  {
   "cell_type": "code",
   "execution_count": 55,
   "id": "ebc0ba25",
   "metadata": {},
   "outputs": [
    {
     "data": {
      "text/html": [
       "<div>\n",
       "<style scoped>\n",
       "    .dataframe tbody tr th:only-of-type {\n",
       "        vertical-align: middle;\n",
       "    }\n",
       "\n",
       "    .dataframe tbody tr th {\n",
       "        vertical-align: top;\n",
       "    }\n",
       "\n",
       "    .dataframe thead th {\n",
       "        text-align: right;\n",
       "    }\n",
       "</style>\n",
       "<table border=\"1\" class=\"dataframe\">\n",
       "  <thead>\n",
       "    <tr style=\"text-align: right;\">\n",
       "      <th></th>\n",
       "      <th>InvoiceNo</th>\n",
       "      <th>Quantity</th>\n",
       "      <th>UnitPrice</th>\n",
       "      <th>CustomerID</th>\n",
       "      <th>Country</th>\n",
       "    </tr>\n",
       "    <tr>\n",
       "      <th>id</th>\n",
       "      <th></th>\n",
       "      <th></th>\n",
       "      <th></th>\n",
       "      <th></th>\n",
       "      <th></th>\n",
       "    </tr>\n",
       "  </thead>\n",
       "  <tbody>\n",
       "    <tr>\n",
       "      <th>1</th>\n",
       "      <td>536365</td>\n",
       "      <td>6</td>\n",
       "      <td>2.550</td>\n",
       "      <td>17850</td>\n",
       "      <td>United Kingdom</td>\n",
       "    </tr>\n",
       "    <tr>\n",
       "      <th>2</th>\n",
       "      <td>536365</td>\n",
       "      <td>6</td>\n",
       "      <td>3.390</td>\n",
       "      <td>17850</td>\n",
       "      <td>United Kingdom</td>\n",
       "    </tr>\n",
       "    <tr>\n",
       "      <th>3</th>\n",
       "      <td>536365</td>\n",
       "      <td>8</td>\n",
       "      <td>2.750</td>\n",
       "      <td>17850</td>\n",
       "      <td>United Kingdom</td>\n",
       "    </tr>\n",
       "    <tr>\n",
       "      <th>4</th>\n",
       "      <td>536365</td>\n",
       "      <td>6</td>\n",
       "      <td>3.390</td>\n",
       "      <td>17850</td>\n",
       "      <td>United Kingdom</td>\n",
       "    </tr>\n",
       "    <tr>\n",
       "      <th>5</th>\n",
       "      <td>536365</td>\n",
       "      <td>6</td>\n",
       "      <td>3.390</td>\n",
       "      <td>17850</td>\n",
       "      <td>United Kingdom</td>\n",
       "    </tr>\n",
       "  </tbody>\n",
       "</table>\n",
       "</div>"
      ],
      "text/plain": [
       "   InvoiceNo  Quantity  UnitPrice  CustomerID         Country\n",
       "id                                                           \n",
       "1     536365         6      2.550       17850  United Kingdom\n",
       "2     536365         6      3.390       17850  United Kingdom\n",
       "3     536365         8      2.750       17850  United Kingdom\n",
       "4     536365         6      3.390       17850  United Kingdom\n",
       "5     536365         6      3.390       17850  United Kingdom"
      ]
     },
     "execution_count": 55,
     "metadata": {},
     "output_type": "execute_result"
    }
   ],
   "source": [
    "df.head()"
   ]
  },
  {
   "cell_type": "code",
   "execution_count": 56,
   "id": "8546d17e",
   "metadata": {},
   "outputs": [
    {
     "data": {
      "text/html": [
       "<div>\n",
       "<style scoped>\n",
       "    .dataframe tbody tr th:only-of-type {\n",
       "        vertical-align: middle;\n",
       "    }\n",
       "\n",
       "    .dataframe tbody tr th {\n",
       "        vertical-align: top;\n",
       "    }\n",
       "\n",
       "    .dataframe thead th {\n",
       "        text-align: right;\n",
       "    }\n",
       "</style>\n",
       "<table border=\"1\" class=\"dataframe\">\n",
       "  <thead>\n",
       "    <tr style=\"text-align: right;\">\n",
       "      <th></th>\n",
       "      <th>InvoiceNo</th>\n",
       "      <th>Quantity</th>\n",
       "      <th>UnitPrice</th>\n",
       "      <th>CustomerID</th>\n",
       "      <th>Country</th>\n",
       "    </tr>\n",
       "    <tr>\n",
       "      <th>id</th>\n",
       "      <th></th>\n",
       "      <th></th>\n",
       "      <th></th>\n",
       "      <th></th>\n",
       "      <th></th>\n",
       "    </tr>\n",
       "  </thead>\n",
       "  <tbody>\n",
       "    <tr>\n",
       "      <th>996</th>\n",
       "      <td>536520</td>\n",
       "      <td>1</td>\n",
       "      <td>1.650</td>\n",
       "      <td>14729</td>\n",
       "      <td>United Kingdom</td>\n",
       "    </tr>\n",
       "    <tr>\n",
       "      <th>997</th>\n",
       "      <td>536520</td>\n",
       "      <td>1</td>\n",
       "      <td>1.250</td>\n",
       "      <td>14729</td>\n",
       "      <td>United Kingdom</td>\n",
       "    </tr>\n",
       "    <tr>\n",
       "      <th>998</th>\n",
       "      <td>536520</td>\n",
       "      <td>1</td>\n",
       "      <td>1.250</td>\n",
       "      <td>14729</td>\n",
       "      <td>United Kingdom</td>\n",
       "    </tr>\n",
       "    <tr>\n",
       "      <th>999</th>\n",
       "      <td>536520</td>\n",
       "      <td>1</td>\n",
       "      <td>2.550</td>\n",
       "      <td>14729</td>\n",
       "      <td>United Kingdom</td>\n",
       "    </tr>\n",
       "    <tr>\n",
       "      <th>1000</th>\n",
       "      <td>536520</td>\n",
       "      <td>2</td>\n",
       "      <td>1.250</td>\n",
       "      <td>14729</td>\n",
       "      <td>United Kingdom</td>\n",
       "    </tr>\n",
       "  </tbody>\n",
       "</table>\n",
       "</div>"
      ],
      "text/plain": [
       "     InvoiceNo  Quantity  UnitPrice  CustomerID         Country\n",
       "id                                                             \n",
       "996     536520         1      1.650       14729  United Kingdom\n",
       "997     536520         1      1.250       14729  United Kingdom\n",
       "998     536520         1      1.250       14729  United Kingdom\n",
       "999     536520         1      2.550       14729  United Kingdom\n",
       "1000    536520         2      1.250       14729  United Kingdom"
      ]
     },
     "execution_count": 56,
     "metadata": {},
     "output_type": "execute_result"
    }
   ],
   "source": [
    "df.tail()"
   ]
  },
  {
   "cell_type": "code",
   "execution_count": 57,
   "id": "870f53c1",
   "metadata": {},
   "outputs": [
    {
     "data": {
      "text/html": [
       "<div>\n",
       "<style scoped>\n",
       "    .dataframe tbody tr th:only-of-type {\n",
       "        vertical-align: middle;\n",
       "    }\n",
       "\n",
       "    .dataframe tbody tr th {\n",
       "        vertical-align: top;\n",
       "    }\n",
       "\n",
       "    .dataframe thead th {\n",
       "        text-align: right;\n",
       "    }\n",
       "</style>\n",
       "<table border=\"1\" class=\"dataframe\">\n",
       "  <thead>\n",
       "    <tr style=\"text-align: right;\">\n",
       "      <th></th>\n",
       "      <th>Quantity</th>\n",
       "      <th>UnitPrice</th>\n",
       "      <th>CustomerID</th>\n",
       "    </tr>\n",
       "  </thead>\n",
       "  <tbody>\n",
       "    <tr>\n",
       "      <th>count</th>\n",
       "      <td>1000.000</td>\n",
       "      <td>1000.000</td>\n",
       "      <td>999.000</td>\n",
       "    </tr>\n",
       "    <tr>\n",
       "      <th>mean</th>\n",
       "      <td>12.785</td>\n",
       "      <td>3.037</td>\n",
       "      <td>16023.130</td>\n",
       "    </tr>\n",
       "    <tr>\n",
       "      <th>std</th>\n",
       "      <td>38.424</td>\n",
       "      <td>5.897</td>\n",
       "      <td>1865.130</td>\n",
       "    </tr>\n",
       "    <tr>\n",
       "      <th>min</th>\n",
       "      <td>-24.000</td>\n",
       "      <td>0.000</td>\n",
       "      <td>12431.000</td>\n",
       "    </tr>\n",
       "    <tr>\n",
       "      <th>25%</th>\n",
       "      <td>2.000</td>\n",
       "      <td>1.250</td>\n",
       "      <td>14688.000</td>\n",
       "    </tr>\n",
       "    <tr>\n",
       "      <th>50%</th>\n",
       "      <td>4.000</td>\n",
       "      <td>2.100</td>\n",
       "      <td>16210.000</td>\n",
       "    </tr>\n",
       "    <tr>\n",
       "      <th>75%</th>\n",
       "      <td>12.000</td>\n",
       "      <td>3.750</td>\n",
       "      <td>17908.000</td>\n",
       "    </tr>\n",
       "    <tr>\n",
       "      <th>max</th>\n",
       "      <td>600.000</td>\n",
       "      <td>165.000</td>\n",
       "      <td>18085.000</td>\n",
       "    </tr>\n",
       "  </tbody>\n",
       "</table>\n",
       "</div>"
      ],
      "text/plain": [
       "       Quantity  UnitPrice  CustomerID\n",
       "count  1000.000   1000.000     999.000\n",
       "mean     12.785      3.037   16023.130\n",
       "std      38.424      5.897    1865.130\n",
       "min     -24.000      0.000   12431.000\n",
       "25%       2.000      1.250   14688.000\n",
       "50%       4.000      2.100   16210.000\n",
       "75%      12.000      3.750   17908.000\n",
       "max     600.000    165.000   18085.000"
      ]
     },
     "execution_count": 57,
     "metadata": {},
     "output_type": "execute_result"
    }
   ],
   "source": [
    "df.describe()"
   ]
  },
  {
   "cell_type": "code",
   "execution_count": 58,
   "id": "da963e01",
   "metadata": {},
   "outputs": [
    {
     "data": {
      "text/plain": [
       "Index(['InvoiceNo', 'Quantity', 'UnitPrice', 'CustomerID', 'Country'], dtype='object')"
      ]
     },
     "execution_count": 58,
     "metadata": {},
     "output_type": "execute_result"
    }
   ],
   "source": [
    "df.columns"
   ]
  },
  {
   "cell_type": "code",
   "execution_count": 59,
   "id": "be4a0e0c",
   "metadata": {},
   "outputs": [
    {
     "data": {
      "text/plain": [
       "(1000, 5)"
      ]
     },
     "execution_count": 59,
     "metadata": {},
     "output_type": "execute_result"
    }
   ],
   "source": [
    "df.shape"
   ]
  },
  {
   "cell_type": "code",
   "execution_count": 61,
   "id": "f2dfd66f",
   "metadata": {},
   "outputs": [
    {
     "data": {
      "text/plain": [
       "array(['United Kingdom', 'France', 'Australia', 'Netherlands'],\n",
       "      dtype=object)"
      ]
     },
     "execution_count": 61,
     "metadata": {},
     "output_type": "execute_result"
    }
   ],
   "source": [
    "pd.unique(df.Country)"
   ]
  },
  {
   "cell_type": "markdown",
   "id": "2ff72ade",
   "metadata": {},
   "source": [
    "#### Indexing and selecting"
   ]
  },
  {
   "attachments": {
    "image.png": {
     "image/png": "[encoded data removed]"
    }
   },
   "cell_type": "markdown",
   "id": "09962499",
   "metadata": {},
   "source": [
    "![image.png](attachment:image.png)"
   ]
  },
  {
   "cell_type": "markdown",
   "id": "c1a47e9f",
   "metadata": {},
   "source": [
    "### Edit"
   ]
  },
  {
   "cell_type": "markdown",
   "id": "524d8b59",
   "metadata": {},
   "source": [
    "Create aliases for members in a column:"
   ]
  },
  {
   "cell_type": "code",
   "execution_count": 67,
   "id": "61b035d5",
   "metadata": {},
   "outputs": [],
   "source": [
    "df[\"CountryAbbr\"] = df.Country.map({'United Kingdom': 'UK', 'France': 'Fr', 'Australia': 'AU', 'Netherlands': 'NL'})"
   ]
  },
  {
   "cell_type": "markdown",
   "id": "7ddd3a43",
   "metadata": {},
   "source": [
    "Change data types:"
   ]
  },
  {
   "cell_type": "code",
   "execution_count": 71,
   "id": "b2a24c69",
   "metadata": {},
   "outputs": [],
   "source": [
    "df[\"CountryAbbr\"] = df[\"CountryAbbr\"].map(str)"
   ]
  }
 ],
 "metadata": {
  "kernelspec": {
   "display_name": "Python 3",
   "language": "python",
   "name": "python3"
  },
  "language_info": {
   "codemirror_mode": {
    "name": "ipython",
    "version": 3
   },
   "file_extension": ".py",
   "mimetype": "text/x-python",
   "name": "python",
   "nbconvert_exporter": "python",
   "pygments_lexer": "ipython3",
   "version": "3.8.8"
  },
  "toc": {
   "base_numbering": "1",
   "nav_menu": {},
   "number_sections": true,
   "sideBar": true,
   "skip_h1_title": false,
   "title_cell": "Table of Contents",
   "title_sidebar": "Contents",
   "toc_cell": true,
   "toc_position": {},
   "toc_section_display": true,
   "toc_window_display": true
  }
 },
 "nbformat": 4,
 "nbformat_minor": 5
}
